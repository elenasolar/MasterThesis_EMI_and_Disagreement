{
 "cells": [
  {
   "cell_type": "markdown",
   "metadata": {},
   "source": []
  },
  {
   "cell_type": "code",
   "execution_count": null,
   "metadata": {},
   "outputs": [],
   "source": [
    "import pandas as pd\n",
    "import zipfile\n"
   ]
  },
  {
   "cell_type": "code",
   "execution_count": null,
   "metadata": {},
   "outputs": [],
   "source": [
    "# Define the ZIP file path\n",
    "zip_filename = \"politics/output/splitted_politics_data.zip\"\n",
    "\n",
    "# Initialize an empty list to store DataFrame chunks\n",
    "df_chunks = []\n",
    "\n",
    "# Open the ZIP file and read each CSV\n",
    "with zipfile.ZipFile(zip_filename, 'r') as zf:\n",
    "    file_list = zf.namelist()  # Get all file names in ZIP\n",
    "\n",
    "    # Sort to maintain order (if needed)\n",
    "    file_list.sort()  \n",
    "\n",
    "    #file_list = [f for f in file_list if \"data_part_3\" in f]  # Only load part 2\n",
    "\n",
    "\n",
    "    print(\"Files found in ZIP:\", file_list)  # Debugging step\n",
    "\n",
    "    # Read each CSV inside ZIP\n",
    "    for file in file_list:\n",
    "        with zf.open(file) as f:\n",
    "            df_chunk = pd.read_csv(f,  quotechar='\"', encoding=\"utf-8\")  \n",
    "            df_chunks.append(df_chunk)  # Store the chunk\n",
    "\n",
    "# Combine all chunks back into a single DataFrame\n",
    "df_reconstructed = pd.concat(df_chunks, ignore_index=True)\n",
    "\n",
    "print(f\"Successfully loaded {len(df_reconstructed)} rows from {zip_filename}\")"
   ]
  },
  {
   "cell_type": "code",
   "execution_count": null,
   "metadata": {},
   "outputs": [],
   "source": [
    "df_reconstructed"
   ]
  }
 ],
 "metadata": {
  "kernelspec": {
   "display_name": "base",
   "language": "python",
   "name": "python3"
  },
  "language_info": {
   "name": "python",
   "version": "3.12.4"
  }
 },
 "nbformat": 4,
 "nbformat_minor": 2
}
